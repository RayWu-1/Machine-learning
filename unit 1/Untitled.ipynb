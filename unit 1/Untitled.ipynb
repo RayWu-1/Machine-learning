{
 "cells": [
  {
   "cell_type": "code",
   "execution_count": 1,
   "id": "2faf4691-5cb8-4c42-a74e-f7b3895b9bb5",
   "metadata": {},
   "outputs": [
    {
     "ename": "ModuleNotFoundError",
     "evalue": "No module named 'numpy'",
     "output_type": "error",
     "traceback": [
      "\u001b[1;31m---------------------------------------------------------------------------\u001b[0m",
      "\u001b[1;31mModuleNotFoundError\u001b[0m                       Traceback (most recent call last)",
      "Cell \u001b[1;32mIn[1], line 1\u001b[0m\n\u001b[1;32m----> 1\u001b[0m \u001b[38;5;28;01mimport\u001b[39;00m \u001b[38;5;21;01mnumpy\u001b[39;00m \u001b[38;5;28;01mas\u001b[39;00m \u001b[38;5;21;01mnp\u001b[39;00m\n\u001b[0;32m      2\u001b[0m \u001b[38;5;28;01mimport\u001b[39;00m \u001b[38;5;21;01mmatplotlib\u001b[39;00m\u001b[38;5;21;01m.\u001b[39;00m\u001b[38;5;21;01mpyplot\u001b[39;00m \u001b[38;5;28;01mas\u001b[39;00m \u001b[38;5;21;01mplt\u001b[39;00m\n\u001b[0;32m      3\u001b[0m \u001b[38;5;28;01mfrom\u001b[39;00m \u001b[38;5;21;01msklearn\u001b[39;00m\u001b[38;5;21;01m.\u001b[39;00m\u001b[38;5;21;01mpreprocessing\u001b[39;00m \u001b[38;5;28;01mimport\u001b[39;00m StandardScaler\n",
      "\u001b[1;31mModuleNotFoundError\u001b[0m: No module named 'numpy'"
     ]
    }
   ],
   "source": [
    "import numpy as np\n",
    "import matplotlib.pyplot as plt\n",
    "from sklearn.preprocessing import StandardScaler\n",
    "\n",
    "# Selecting relevant features and target\n",
    "features = [\"quality_of_education\", \"alumni_employment\", \"quality_of_faculty\", \"publications\", \"influence\", \"citations\", \"patents\"]\n",
    "target = \"score\"\n",
    "\n",
    "# Drop rows with missing values\n",
    "df = df.dropna(subset=features + [target])\n",
    "\n",
    "# Extracting input and output variables\n",
    "X = df[features].values\n",
    "y = df[target].values.reshape(-1, 1)\n",
    "\n",
    "# Standardizing features\n",
    "scaler = StandardScaler()\n",
    "X = scaler.fit_transform(X)\n",
    "\n",
    "# Adding bias term\n",
    "X = np.c_[np.ones((X.shape[0], 1)), X]\n",
    "\n",
    "# Gradient Descent Implementation\n",
    "def gradient_descent(X, y, learning_rate=0.01, iterations=1000):\n",
    "    m, n = X.shape\n",
    "    theta = np.zeros((n, 1))\n",
    "    history = []\n",
    "    \n",
    "    for _ in range(iterations):\n",
    "        gradients = (1/m) * X.T @ (X @ theta - y)\n",
    "        theta -= learning_rate * gradients\n",
    "        loss = (1/(2*m)) * np.sum((X @ theta - y) ** 2)\n",
    "        history.append(loss)\n",
    "    \n",
    "    return theta, history\n",
    "\n",
    "# Running gradient descent\n",
    "theta, history = gradient_descent(X, y)\n",
    "\n",
    "# Plot loss reduction\n",
    "plt.plot(history)\n",
    "plt.xlabel(\"Iterations\")\n",
    "plt.ylabel(\"Loss\")\n",
    "plt.title(\"Loss Reduction Over Iterations\")\n",
    "plt.show()\n",
    "\n",
    "# Displaying final parameters\n",
    "print(\"Optimized Theta Values:\")\n",
    "print(theta)\n"
   ]
  },
  {
   "cell_type": "code",
   "execution_count": null,
   "id": "59eabb25-44b1-4373-ac41-025cd1445742",
   "metadata": {},
   "outputs": [],
   "source": []
  }
 ],
 "metadata": {
  "kernelspec": {
   "display_name": "Python 3 (ipykernel)",
   "language": "python",
   "name": "python3"
  },
  "language_info": {
   "codemirror_mode": {
    "name": "ipython",
    "version": 3
   },
   "file_extension": ".py",
   "mimetype": "text/x-python",
   "name": "python",
   "nbconvert_exporter": "python",
   "pygments_lexer": "ipython3",
   "version": "3.12.1"
  }
 },
 "nbformat": 4,
 "nbformat_minor": 5
}
